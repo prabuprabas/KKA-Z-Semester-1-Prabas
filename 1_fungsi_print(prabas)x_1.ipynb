{
  "nbformat": 4,
  "nbformat_minor": 0,
  "metadata": {
    "colab": {
      "provenance": [],
      "authorship_tag": "ABX9TyOkdnpwVCvruS+rxgAia692",
      "include_colab_link": true
    },
    "kernelspec": {
      "name": "python3",
      "display_name": "Python 3"
    },
    "language_info": {
      "name": "python"
    }
  },
  "cells": [
    {
      "cell_type": "markdown",
      "metadata": {
        "id": "view-in-github",
        "colab_type": "text"
      },
      "source": [
        "<a href=\"https://colab.research.google.com/github/prabuprabas/KKA-Z-Semester-1-Prabas/blob/main/1_fungsi_print(prabas)x_1.ipynb\" target=\"_parent\"><img src=\"https://colab.research.google.com/assets/colab-badge.svg\" alt=\"Open In Colab\"/></a>"
      ]
    },
    {
      "cell_type": "markdown",
      "source": [],
      "metadata": {
        "id": "fohh7mEY2mXP"
      }
    },
    {
      "cell_type": "markdown",
      "source": [
        "#menampilkan teks bebas"
      ],
      "metadata": {
        "id": "U7dXF-Qy4FlK"
      }
    },
    {
      "cell_type": "markdown",
      "source": [],
      "metadata": {
        "id": "UX8aeviX2lYV"
      }
    },
    {
      "cell_type": "code",
      "source": [
        "\n",
        "nama = \"prabaswara putra m\"\n",
        "\n",
        "kelas = \"x1\"\n",
        "\n",
        "no_abs = 27\n",
        "nama_idola = \"mesi\"\n",
        "print(nama) ku\n",
        "print(kelas)\n",
        "print(no_abs)\n",
        "print(nama_idola)"
      ],
      "metadata": {
        "colab": {
          "base_uri": "https://localhost:8080/"
        },
        "id": "sqsk3hXk6iVX",
        "outputId": "0d17062c-a80c-4e66-8443-762322419e7e"
      },
      "execution_count": null,
      "outputs": [
        {
          "output_type": "stream",
          "name": "stdout",
          "text": [
            "prabaswara putra m\n",
            "x1\n",
            "27\n",
            "mesi\n"
          ]
        }
      ]
    },
    {
      "cell_type": "markdown",
      "source": [
        "#Menampilkan nilai variable dan string"
      ],
      "metadata": {
        "id": "Y1lNtAdj4tzf"
      }
    },
    {
      "cell_type": "markdown",
      "source": [],
      "metadata": {
        "id": "iIrJ3tw13qPq"
      }
    },
    {
      "cell_type": "code",
      "source": [
        "nama_idola = \"dias\""
      ],
      "metadata": {
        "id": "Lk2Hq9La40vu"
      },
      "execution_count": null,
      "outputs": []
    },
    {
      "cell_type": "code",
      "source": [
        "usia = 16"
      ],
      "metadata": {
        "id": "R3FC0Zyn44yP"
      },
      "execution_count": null,
      "outputs": []
    },
    {
      "cell_type": "code",
      "source": [
        "print(\"Nama idola saya adalah\",nama_idola,\". Usianya adalah\",usia,\"tahun\")"
      ],
      "metadata": {
        "colab": {
          "base_uri": "https://localhost:8080/"
        },
        "id": "Nm6fvXKP5BLF",
        "outputId": "832d6fb7-8f4a-4655-aba1-c2fdd43f9b91"
      },
      "execution_count": null,
      "outputs": [
        {
          "output_type": "stream",
          "name": "stdout",
          "text": [
            "Nama idola saya adalah dias . Usianya adalah 16 tahun\n"
          ]
        }
      ]
    },
    {
      "cell_type": "code",
      "source": [
        "print(\"Nama idola saya adalah \"+nama_idola+\". Usianya adalah\"+str(usia)+\"tahun\")"
      ],
      "metadata": {
        "colab": {
          "base_uri": "https://localhost:8080/"
        },
        "id": "ZFBbWimN5id4",
        "outputId": "52b06269-f1d4-48b7-c65d-b9a702a42c27"
      },
      "execution_count": null,
      "outputs": [
        {
          "output_type": "stream",
          "name": "stdout",
          "text": [
            "Nama idola saya adalah dias. Usianya adalah16tahun\n"
          ]
        }
      ]
    },
    {
      "cell_type": "code",
      "source": [
        "print(f\"Nama idola saya adalah {nama_idola}. Usianya adalah {usia} tahun\")"
      ],
      "metadata": {
        "colab": {
          "base_uri": "https://localhost:8080/"
        },
        "id": "KyuMW-m759cK",
        "outputId": "32fec237-c28a-47a3-9d36-4ad7066c40c0"
      },
      "execution_count": null,
      "outputs": [
        {
          "output_type": "stream",
          "name": "stdout",
          "text": [
            "Nama idola saya adalah dias. Usianya adalah 16 tahun\n"
          ]
        }
      ]
    },
    {
      "cell_type": "markdown",
      "source": [
        "#Escape String"
      ],
      "metadata": {
        "id": "vwY2tg3W834I"
      }
    },
    {
      "cell_type": "code",
      "source": [
        "print(\"Nama : Prabas \")\n",
        "print(\"Kelas : X.1\")\n",
        "print(\"No. Absen: 26\")"
      ],
      "metadata": {
        "colab": {
          "base_uri": "https://localhost:8080/"
        },
        "id": "5zM9hIRp9f0W",
        "outputId": "4618ac25-ec15-4b40-ffcf-a892e1d8fb99"
      },
      "execution_count": null,
      "outputs": [
        {
          "output_type": "stream",
          "name": "stdout",
          "text": [
            "Nama : Prabas \n",
            "Kelas : X.1\n",
            "No. Absen: 26\n"
          ]
        }
      ]
    },
    {
      "cell_type": "code",
      "source": [
        "print(\"Nama: Prabas\\nKelas : X.1\\nNo. Absen : 26\")"
      ],
      "metadata": {
        "colab": {
          "base_uri": "https://localhost:8080/"
        },
        "id": "6qeIYcLg90s6",
        "outputId": "ce253f7c-663a-46e8-d582-7f04c05e82da"
      },
      "execution_count": null,
      "outputs": [
        {
          "output_type": "stream",
          "name": "stdout",
          "text": [
            "Nama: Prabas\n",
            "Kelas : X.1\n",
            "No. Absen : 26\n"
          ]
        }
      ]
    },
    {
      "cell_type": "code",
      "source": [
        "print(\"\"\"Nama\\t\\t: Prabas\"\n",
        "Kelas\\t\\t: X.1\n",
        "No. Absen\\t: 26\"\"\")"
      ],
      "metadata": {
        "colab": {
          "base_uri": "https://localhost:8080/"
        },
        "id": "KhzJF0D6-A72",
        "outputId": "d7ffad8d-0276-4637-bf08-713784705182"
      },
      "execution_count": null,
      "outputs": [
        {
          "output_type": "stream",
          "name": "stdout",
          "text": [
            "Nama\t\t: Prabas\"\n",
            "Kelas\t\t: X.1\n",
            "No. Absen\t: 26\n"
          ]
        }
      ]
    }
  ]
}